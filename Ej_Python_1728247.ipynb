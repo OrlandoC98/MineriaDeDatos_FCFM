{
 "cells": [
  {
   "cell_type": "markdown",
   "metadata": {},
   "source": [
    "# Ejercicio básicos Python\n",
    "### Ejercicio 1\n",
    "Realiza una variable con tu matricula y realiza una secuencia de imprimir con tu nombre y tu matricula concatenados."
   ]
  },
  {
   "cell_type": "code",
   "execution_count": 2,
   "metadata": {},
   "outputs": [
    {
     "name": "stdout",
     "output_type": "stream",
     "text": [
      "Ingresa tu matricula: 1728247\n",
      "Ingresa tu nombre completo: Manuel Orlando Castillo Cerda\n",
      "1728247 Manuel Orlando Castillo Cerda\n"
     ]
    }
   ],
   "source": [
    "Mat = int(input(\"Ingresa tu matricula: \"))\n",
    "Name = str(input(\"Ingresa tu nombre completo: \"))\n",
    "\n",
    "print(Mat,Name)"
   ]
  },
  {
   "cell_type": "markdown",
   "metadata": {},
   "source": [
    "### Ejercicio 2\n",
    "Pidiendo el input del usuario pide dos números y crea una pequeña calculadora con los operadores básicos de suma, resta, multiplicación, división, y exponente."
   ]
  },
  {
   "cell_type": "code",
   "execution_count": 96,
   "metadata": {},
   "outputs": [
    {
     "name": "stdout",
     "output_type": "stream",
     "text": [
      "Ingrese el primer número: 10\n",
      "Ingrese el segundo número: 20\n",
      "\n",
      "Ingrese el numero correspondiente a la operación a realizar \n",
      "1.- Suma \n",
      "2.- Resta \n",
      "3.- Multiplicación \n",
      "4.- División \n",
      "5.- Exponente\n",
      "Opción seleccionada: 1\n",
      "\n",
      "El resultado de la suma es:  30\n",
      "\n",
      "¿Desea realizar otra operación? \n",
      " 1.- Si \n",
      " 2.- No\n",
      "Respuesta: 1\n",
      "Ingrese el primer número: 18\n",
      "Ingrese el segundo número: 5\n",
      "\n",
      "Ingrese el numero correspondiente a la operación a realizar \n",
      "1.- Suma \n",
      "2.- Resta \n",
      "3.- Multiplicación \n",
      "4.- División \n",
      "5.- Exponente\n",
      "Opción seleccionada: 2\n",
      "\n",
      "El resultado de la resta es:  13\n",
      "\n",
      "¿Desea realizar otra operación? \n",
      " 1.- Si \n",
      " 2.- No\n",
      "Respuesta: 2\n"
     ]
    }
   ],
   "source": [
    "op=1\n",
    "while op == 1:\n",
    "    \n",
    "    n1 = int(input(\"Ingrese el primer número: \"))\n",
    "    n2 = int(input(\"Ingrese el segundo número: \"))\n",
    "\n",
    "    print(\"\\nIngrese el numero correspondiente a la operación a realizar \\n\" \n",
    "          \"1.- Suma \\n\"\n",
    "          \"2.- Resta \\n\"\n",
    "          \"3.- Multiplicación \\n\"\n",
    "          \"4.- División \\n\"\n",
    "          \"5.- Exponente\")\n",
    "    op2 = int(input(\"Opción seleccionada: \"))\n",
    "    if op2 == 1:\n",
    "        print(\"\\nEl resultado de la suma es: \",n1 + n2)\n",
    "    elif op2 == 2:\n",
    "        print(\"\\nEl resultado de la resta es: \",n1 - n2)\n",
    "    elif op2 == 3:\n",
    "        print(\"\\nEl resultado de la multiplicación es: \",n1*n2)\n",
    "    elif op2 == 4:\n",
    "        print(\"\\nEl resultado de la división es: \",n1/n2)\n",
    "    elif op2 == 5:\n",
    "        print(\"\\nEl resultado del exponente es: \",n1**n2)\n",
    "    else:\n",
    "        print(\"\\nOpción incorrecta!\")\n",
    "    \n",
    "    op=0\n",
    "    while op<1 or op>2:\n",
    "        print(\"\\n¿Desea realizar otra operación? \\n 1.- Si \\n 2.- No\")\n",
    "        op=int(input(\"Respuesta: \"))\n",
    "        if op<1 or op>2:\n",
    "                print(\"\\nOpción incorrecta!\")"
   ]
  },
  {
   "cell_type": "markdown",
   "metadata": {},
   "source": [
    "### Ejercicio 3\n",
    "Con loop while o for, realiza una lista de 10 numeros multiplos de 3, y después realiza una función de loop que sume todos los números dentro del arreglo."
   ]
  },
  {
   "cell_type": "code",
   "execution_count": 97,
   "metadata": {},
   "outputs": [
    {
     "name": "stdout",
     "output_type": "stream",
     "text": [
      "1\n",
      "2\n",
      "3\n",
      "4\n",
      "5\n",
      "6\n",
      "7\n",
      "8\n",
      "9\n",
      "10\n",
      "[3, 6, 9, 12, 15, 18, 21, 24, 27, 30]\n",
      "\n",
      "La suma de los números dentro del arreglo es:  165\n"
     ]
    }
   ],
   "source": [
    "Mult3=[]\n",
    "i=1\n",
    "while i <= 10:\n",
    "    print(i)\n",
    "    Mult3.append(i*3)\n",
    "    i=i+1\n",
    "print(Mult3)\n",
    "\n",
    "suma=0\n",
    "for i in range(0,10):\n",
    "    suma=suma+Mult3[i]\n",
    "    i=i+1\n",
    "print(\"\\nLa suma de los números dentro del arreglo es: \", suma)"
   ]
  },
  {
   "cell_type": "markdown",
   "metadata": {},
   "source": [
    "### Ejercicio 4\n",
    "- Con una función de if else, revisar si un número es par o es impar.\n",
    "- Con una función de if else, revisar si un número es primo o no."
   ]
  },
  {
   "cell_type": "code",
   "execution_count": 98,
   "metadata": {},
   "outputs": [
    {
     "name": "stdout",
     "output_type": "stream",
     "text": [
      "Ingrese un número: 22\n",
      "\n",
      "El número  22  es par\n",
      "\n",
      "El número  22 no es primo\n",
      "\n",
      "¿Desea revisar otro número? \n",
      " 1.- Si \n",
      " 2.- No\n",
      "Respuesta: 1\n",
      "Ingrese un número: 23\n",
      "\n",
      "El número  23  es impar\n",
      "\n",
      "El número  23  es primo\n",
      "\n",
      "¿Desea revisar otro número? \n",
      " 1.- Si \n",
      " 2.- No\n",
      "Respuesta: 2\n"
     ]
    }
   ],
   "source": [
    "op=1\n",
    "while op == 1:\n",
    "    \n",
    "    n = int(input(\"Ingrese un número: \"))\n",
    "\n",
    "    if n%2 == 0:\n",
    "        print(\"\\nEl número \",n,\" es par\")\n",
    "    else:\n",
    "        print(\"\\nEl número \",n,\" es impar\")\n",
    "    \n",
    "    p=0\n",
    "    for i in range(2,n):            \n",
    "        if n%i==0:\n",
    "            p=p+1\n",
    "    if p==0:\n",
    "        print(\"\\nEl número \",n,\" es primo\")\n",
    "    else:\n",
    "        print(\"\\nEl número \",n,\"no es primo\")\n",
    "            \n",
    "        \n",
    "    op=0\n",
    "    while op<1 or op>2:\n",
    "        print(\"\\n¿Desea revisar otro número? \\n 1.- Si \\n 2.- No\")\n",
    "        op=int(input(\"Respuesta: \"))\n",
    "        if op<1 or op>2:\n",
    "            print(\"\\n Opción incorrecta!\")\n",
    "            \n",
    "# Consulte la siguiente fuente solo para darme una idea, mas no lo hice como ahí viene \n",
    "# https://ellibrodepython.com/numeros-primos-python\n",
    "# Además, revise un programa que tengo en la lap, el cual esta hecho en C"
   ]
  },
  {
   "cell_type": "markdown",
   "metadata": {},
   "source": [
    "### Ejercicio 5\n",
    "Utilizando diferentes clases en python, crea una calculadora con los operadores básicos de suma, resta, multiplicación, división, y exponente."
   ]
  },
  {
   "cell_type": "code",
   "execution_count": 99,
   "metadata": {},
   "outputs": [
    {
     "name": "stdout",
     "output_type": "stream",
     "text": [
      "Ingrese un número: 22\n",
      "Ingrese otro número: 3\n",
      "\n",
      "Ingrese el número correspondiente a la operación a realizar \n",
      "1.- Suma \n",
      "2.- Resta \n",
      "3.- Multiplicación \n",
      "4.- División \n",
      "5.- Exponente\n",
      "Opción seleccionada: 2\n",
      "\n",
      "El resultado de la resta es:  19\n",
      "\n",
      "¿Desea realizar otra operación? \n",
      " 1.- Si \n",
      " 2.- No\n",
      "Respuesta: 1\n",
      "Ingrese un número: 2\n",
      "Ingrese otro número: 6\n",
      "\n",
      "Ingrese el número correspondiente a la operación a realizar \n",
      "1.- Suma \n",
      "2.- Resta \n",
      "3.- Multiplicación \n",
      "4.- División \n",
      "5.- Exponente\n",
      "Opción seleccionada: 3\n",
      "\n",
      "El resultado de la multiplicación es:  12\n",
      "\n",
      "¿Desea realizar otra operación? \n",
      " 1.- Si \n",
      " 2.- No\n",
      "Respuesta: 2\n"
     ]
    }
   ],
   "source": [
    "def Suma(a,b):\n",
    "    c=a+b\n",
    "    return c\n",
    "\n",
    "def Resta(a,b):\n",
    "    c=a-b\n",
    "    return c\n",
    "\n",
    "def Multip(a,b):\n",
    "    c=a*b\n",
    "    return c\n",
    "\n",
    "def Div(a,b):\n",
    "    c=a/b\n",
    "    return c\n",
    "\n",
    "def Expo(a,b):\n",
    "    c=a**b\n",
    "    return c\n",
    "\n",
    "ok=1\n",
    "while ok == 1:\n",
    "    \n",
    "    a = int(input(\"Ingrese un número: \"))\n",
    "    b = int(input(\"Ingrese otro número: \"))\n",
    "\n",
    "    print(\"\\nIngrese el número correspondiente a la operación a realizar \\n\" \n",
    "          \"1.- Suma \\n\"\n",
    "          \"2.- Resta \\n\"\n",
    "          \"3.- Multiplicación \\n\"\n",
    "          \"4.- División \\n\"\n",
    "          \"5.- Exponente\")\n",
    "    op = int(input(\"Opción seleccionada: \"))\n",
    "    if op == 1:\n",
    "        print(\"\\nEl resultado de la suma es: \", Suma(a,b))\n",
    "    elif op == 2:\n",
    "        print(\"\\nEl resultado de la resta es: \",Resta(a,b))\n",
    "    elif op == 3:\n",
    "        print(\"\\nEl resultado de la multiplicación es: \",Multip(a,b))\n",
    "    elif op == 4:\n",
    "        print(\"\\nEl resultado de la división es: \",Div(a,b))\n",
    "    elif op == 5:\n",
    "        print(\"\\nEl resultado del exponente es: \",Expo(a,b))\n",
    "    else:\n",
    "        print(\"\\nOpción incorrecta!\")\n",
    "    \n",
    "    ok=0\n",
    "    while ok<1 or ok>2:\n",
    "        print(\"\\n¿Desea realizar otra operación? \\n 1.- Si \\n 2.- No\")\n",
    "        ok=int(input(\"Respuesta: \"))\n",
    "        if ok<1 or ok>2:\n",
    "                print(\"\\n Opción incorrecta!\")"
   ]
  },
  {
   "cell_type": "markdown",
   "metadata": {},
   "source": [
    "## Ejercicios con estructuras básicas de python.\n",
    "### Tuplas\n",
    "- Crear una variable flotante, integer, boleana y compleja e imprimir el tipo de variable que es."
   ]
  },
  {
   "cell_type": "code",
   "execution_count": 100,
   "metadata": {},
   "outputs": [
    {
     "name": "stdout",
     "output_type": "stream",
     "text": [
      "La variable a = 7.24  es de tipo:  <class 'float'>\n",
      "La variable b = 28  es de tipo:  <class 'int'>\n",
      "La variable c = False  es de tipo:  <class 'bool'>\n",
      "La variable d = (2+2j)  es de tipo:  <class 'complex'>\n"
     ]
    }
   ],
   "source": [
    "v1 = 7.24 #Varible flotante\n",
    "v2 = 28 #Variable integer\n",
    "v3 = v1>v2 #Variable boleana\n",
    "v4 = complex(2,2) #Variable compleja\n",
    "\n",
    "print(\"La variable a =\",v1,\" es de tipo: \", type(v1))\n",
    "print(\"La variable b =\",v2,\" es de tipo: \", type(v2))\n",
    "print(\"La variable c =\",v3,\" es de tipo: \", type(v3))\n",
    "print(\"La variable d =\",v4,\" es de tipo: \", type(v4))\n",
    "\n",
    "# Investigue como se declara una variable compleja\n",
    "# https://www.geeksforgeeks.org/complex-numbers-in-python-set-1-introduction/ "
   ]
  },
  {
   "cell_type": "markdown",
   "metadata": {},
   "source": [
    "- Crear una tupla con valores enteros imprimir el primer y ultimo valor."
   ]
  },
  {
   "cell_type": "code",
   "execution_count": 103,
   "metadata": {},
   "outputs": [
    {
     "name": "stdout",
     "output_type": "stream",
     "text": [
      "Ingrese el tamaño de la tupla a crear: 4\n",
      "Ingrese el número entero a añadir a la tupla: 10\n",
      "Ingrese el número entero a añadir a la tupla: 20\n",
      "Ingrese el número entero a añadir a la tupla: 30\n",
      "Ingrese el número entero a añadir a la tupla: 40\n",
      "\n",
      "La tupla contiene los siguientes datos : [10, 20, 30, 40]\n",
      "El primer valor de la tupla es : 10\n",
      "El ultimo valor de la tupla es : 40 \n",
      "\n"
     ]
    }
   ],
   "source": [
    "tam = int(input(\"Ingrese el tamaño de la tupla a crear: \"))\n",
    "ltup=[]\n",
    "for i in range(0,tam):\n",
    "    ele = int(input(\"Ingrese el número entero a añadir a la tupla: \"))\n",
    "    ltup.append(ele)\n",
    "    i=i+1\n",
    "tup=list(ltup)\n",
    "print(\"\\nLa tupla contiene los siguientes datos :\",tup)\n",
    "print(\"El primer valor de la tupla es :\",tup[0])\n",
    "print(\"El ultimo valor de la tupla es :\",tup[len(tup)-1],\"\\n\")"
   ]
  },
  {
   "cell_type": "markdown",
   "metadata": {},
   "source": [
    "- Añadir 3 valores de string a la tupla."
   ]
  },
  {
   "cell_type": "code",
   "execution_count": 104,
   "metadata": {},
   "outputs": [
    {
     "name": "stdout",
     "output_type": "stream",
     "text": [
      "Ingrese el string que desee añadir a la tupla: ven\n",
      "Ingrese el string que desee añadir a la tupla: max\n",
      "Ingrese el string que desee añadir a la tupla: leo\n",
      "\n",
      "La tupla ahora contiene los siguientes datos : (10, 20, 30, 40, 'ven', 'max', 'leo')\n"
     ]
    }
   ],
   "source": [
    "ltup=list(tup)\n",
    "for i in range(0,3):\n",
    "    aux = str(input(\"Ingrese el string que desee añadir a la tupla: \"))\n",
    "    ltup.append(aux)\n",
    "    i=i+1\n",
    "tup=tuple(ltup)\n",
    "print(\"\\nLa tupla ahora contiene los siguientes datos :\",tup)\n",
    "\n",
    "# Investigue como añadir elementos a una tupla\n",
    "# https://codepad.co/snippet/tuplas-agregar-eliminar-yordenar-elementos"
   ]
  },
  {
   "cell_type": "markdown",
   "metadata": {},
   "source": [
    "- Verificar si una variable existe dentro de la tupla."
   ]
  },
  {
   "cell_type": "code",
   "execution_count": 105,
   "metadata": {},
   "outputs": [
    {
     "name": "stdout",
     "output_type": "stream",
     "text": [
      "\n",
      "Ingrese la variable a buscar dentro de la tupla: max\n",
      "La variable  max  si esta en la tupla\n"
     ]
    }
   ],
   "source": [
    "var = str(input(\"\\nIngrese la variable a buscar dentro de la tupla: \"))\n",
    "if (var in tup)==True:\n",
    "    print(\"La variable \",var,\" si esta en la tupla\")\n",
    "else:\n",
    "    print(\"La variable \",var,\"no esta en la tupla\")"
   ]
  },
  {
   "cell_type": "markdown",
   "metadata": {},
   "source": [
    "### Listas\n",
    "- Crear una lista con 40 elementos aleatorios enteros."
   ]
  },
  {
   "cell_type": "code",
   "execution_count": 114,
   "metadata": {},
   "outputs": [
    {
     "name": "stdout",
     "output_type": "stream",
     "text": [
      "La lista contiene los siguientes datos:  [43, 21, 57, 50, 30, 43, 83, 98, 3, 30, 97, 21, 26, 77, 62, 66, 14, 58, 11, 27, 53, 84, 89, 77, 29, 68, 3, 69, 84, 81, 70, 68, 58, 87, 50, 63, 45, 29, 37, 70]\n"
     ]
    }
   ],
   "source": [
    "import random as r\n",
    "lista=[]\n",
    "while len(lista)<40:\n",
    "    x=r.randint(0,100)\n",
    "    lista.append(x)\n",
    "\n",
    "print(\"La lista contiene los siguientes datos: \",lista)"
   ]
  },
  {
   "cell_type": "markdown",
   "metadata": {},
   "source": [
    "- Con una funcion (def) crear dos listas nuevas a partir de la lista creada por numeros aleatorios, en la cual en una esten los elementos pares, y en la otra los elementos impares."
   ]
  },
  {
   "cell_type": "code",
   "execution_count": 115,
   "metadata": {},
   "outputs": [
    {
     "name": "stdout",
     "output_type": "stream",
     "text": [
      "\n",
      "La lista de elementos pares es:  [50, 30, 98, 30, 26, 62, 66, 14, 58, 84, 68, 84, 70, 68, 58, 50, 70] \n",
      "La lista de elementos impares es:  [43, 21, 57, 43, 83, 3, 97, 21, 77, 11, 27, 53, 89, 77, 29, 3, 69, 81, 87, 63, 45, 29, 37]\n"
     ]
    }
   ],
   "source": [
    "def DivL(lista):\n",
    "    LPar=[]\n",
    "    LImpar=[]\n",
    "    for i in range(0,len(lista)):\n",
    "        if lista[i]%2 == 0:\n",
    "            LPar.append(lista[i])\n",
    "        else:\n",
    "            LImpar.append(lista[i])\n",
    "    print(\"\\nLa lista de elementos pares es: \", LPar,\"\\nLa lista de elementos impares es: \",LImpar)\n",
    "    return LPar, LImpar\n",
    "\n",
    "x=DivL(lista)"
   ]
  },
  {
   "cell_type": "markdown",
   "metadata": {},
   "source": [
    "- Crear dos variables con la longitud de ambas listas nuevas e imprimir las variables."
   ]
  },
  {
   "cell_type": "code",
   "execution_count": 116,
   "metadata": {},
   "outputs": [
    {
     "name": "stdout",
     "output_type": "stream",
     "text": [
      "\n",
      "La longitud de la lista de elementos pares es:  17 \n",
      "La longitud de lista de elementos impares es:  23\n"
     ]
    }
   ],
   "source": [
    "lon1=len(x[0])\n",
    "lon2=len(x[1])\n",
    "print(\"\\nLa longitud de la lista de elementos pares es: \", lon1,\"\\nLa longitud de lista de elementos impares es: \",lon2)"
   ]
  },
  {
   "cell_type": "markdown",
   "metadata": {},
   "source": [
    "- Ordenar los elementos de la lista par de mayor a menor, y los de la lista impar de menor a mayor."
   ]
  },
  {
   "cell_type": "code",
   "execution_count": 117,
   "metadata": {},
   "outputs": [
    {
     "name": "stdout",
     "output_type": "stream",
     "text": [
      "\n",
      "La lista par de mayor a menor es:  [98, 84, 84, 70, 70, 68, 68, 66, 62, 58, 58, 50, 50, 30, 30, 26, 14]\n",
      "La lista impar de menor a mayor es:  [3, 3, 11, 21, 21, 27, 29, 29, 37, 43, 43, 45, 53, 57, 63, 69, 77, 77, 81, 83, 87, 89, 97]\n"
     ]
    }
   ],
   "source": [
    "LPar=list(x[0])\n",
    "LImpar=list(x[1])\n",
    "\n",
    "for i in range(0,len(LPar)):\n",
    "    for j in range(0,len(LPar)):\n",
    "        if LPar[i]>LPar[j]:\n",
    "            aux=LPar[i]\n",
    "            LPar[i]=LPar[j]\n",
    "            LPar[j]=aux\n",
    "        j=j+1\n",
    "    i=i+1\n",
    "print(\"\\nLa lista par de mayor a menor es: \",LPar)\n",
    "\n",
    "for i in range(0,len(LImpar)):\n",
    "    for j in range(0,len(LImpar)):\n",
    "        if LImpar[i]<LImpar[j]:\n",
    "            aux=LImpar[i]\n",
    "            LImpar[i]=LImpar[j]\n",
    "            LImpar[j]=aux\n",
    "        j=j+1\n",
    "    i=i+1\n",
    "print(\"La lista impar de menor a mayor es: \",LImpar)\n"
   ]
  },
  {
   "cell_type": "markdown",
   "metadata": {},
   "source": [
    "- Utilizar al menos cuatro de las funciones de listas en python en la lista original de 40 elementos."
   ]
  },
  {
   "cell_type": "code",
   "execution_count": 118,
   "metadata": {},
   "outputs": [
    {
     "name": "stdout",
     "output_type": "stream",
     "text": [
      "\n",
      "Ingrese el número correspondiente a la función a realizar \n",
      "1.- Añadir elemento \n",
      "2.- Eliminar todos los elementos \n",
      "3.- Copiar lista \n",
      "4.- Insertar elemento en cierta posición \n",
      "5.- Eliminar ultimo elemento\n",
      "Opción seleccionada: 1\n",
      "\n",
      "Ingrese un número para agregarlo a la lista original: 10\n",
      "\n",
      "La lista despues de la función es:  [43, 21, 57, 50, 30, 43, 83, 98, 3, 30, 97, 21, 26, 77, 62, 66, 14, 58, 11, 27, 53, 84, 89, 77, 29, 68, 3, 69, 84, 81, 70, 68, 58, 87, 50, 63, 45, 29, 37, 70, 10]\n",
      "\n",
      "¿Desea realizar otra función? \n",
      " 1.- Si \n",
      " 2.- No\n",
      "Respuesta: 1\n",
      "\n",
      "Ingrese el número correspondiente a la función a realizar \n",
      "1.- Añadir elemento \n",
      "2.- Eliminar todos los elementos \n",
      "3.- Copiar lista \n",
      "4.- Insertar elemento en cierta posición \n",
      "5.- Eliminar ultimo elemento\n",
      "Opción seleccionada: 4\n",
      "\n",
      "Ingrese un número para agregarlo a la lista original: 100\n",
      "Considerando que la lista es de tamaño 41\n",
      "Ingrese en que posición desea agregarlo: 23\n",
      "\n",
      "La lista despues de la función es:  [43, 21, 57, 50, 30, 43, 83, 98, 3, 30, 97, 21, 26, 77, 62, 66, 14, 58, 11, 27, 53, 84, 89, 100, 77, 29, 68, 3, 69, 84, 81, 70, 68, 58, 87, 50, 63, 45, 29, 37, 70, 10]\n",
      "\n",
      "¿Desea realizar otra función? \n",
      " 1.- Si \n",
      " 2.- No\n",
      "Respuesta: 2\n"
     ]
    }
   ],
   "source": [
    "opc=1\n",
    "while opc == 1:\n",
    "    print(\"\\nIngrese el número correspondiente a la función a realizar \\n\" \n",
    "          \"1.- Añadir elemento \\n\"\n",
    "          \"2.- Eliminar todos los elementos \\n\"\n",
    "          \"3.- Copiar lista \\n\"\n",
    "          \"4.- Insertar elemento en cierta posición \\n\"\n",
    "          \"5.- Eliminar ultimo elemento\")\n",
    "    y = int(input(\"Opción seleccionada: \"))\n",
    "    if y == 1:\n",
    "        v=int(input(\"\\nIngrese un número para agregarlo a la lista original: \"))\n",
    "        lista.append(v)\n",
    "    elif y == 2:\n",
    "        lista.clear()\n",
    "    elif y == 3:\n",
    "        lista2=lista.copy()\n",
    "        print(\"\\nLa copia de la lista es: \", lista2)\n",
    "    elif y == 4:\n",
    "        v=int(input(\"\\nIngrese un número para agregarlo a la lista original: \"))\n",
    "        print(\"Considerando que la lista es de tamaño\", len(lista))\n",
    "        pos=int(input(\"Ingrese en que posición desea agregarlo: \"))\n",
    "        lista.insert(pos,v)\n",
    "    elif y == 5:\n",
    "        lista.pop()\n",
    "    else:\n",
    "        print(\"\\nOpción incorrecta!\")\n",
    "    \n",
    "    print(\"\\nLa lista despues de la función es: \", lista)\n",
    "    opc=0\n",
    "    while opc<1 or opc>2:\n",
    "        print(\"\\n¿Desea realizar otra función? \\n 1.- Si \\n 2.- No\")\n",
    "        opc=int(input(\"Respuesta: \"))\n",
    "        if opc<1 or opc>2:\n",
    "                print(\"\\nOpción incorrecta!\")"
   ]
  },
  {
   "cell_type": "markdown",
   "metadata": {},
   "source": [
    "### Diccionarios\n",
    "- Crear un diccionario de 6 personas que conozcas con su primer nombre y su edad."
   ]
  },
  {
   "cell_type": "code",
   "execution_count": 49,
   "metadata": {},
   "outputs": [
    {
     "name": "stdout",
     "output_type": "stream",
     "text": [
      "El diccionario contiene los siguientes datos:  {'Luis': 53, 'Karen': 24, 'America': 15, 'Alexander': 12, 'Tania': 31, 'Monse': 20}\n"
     ]
    }
   ],
   "source": [
    "dic1={'Luis':53,'Karen':24,'America':15,'Alexander':12,'Tania':31,'Monse':20}\n",
    "print(\"El diccionario contiene los siguientes datos: \", dic1)"
   ]
  },
  {
   "cell_type": "markdown",
   "metadata": {},
   "source": [
    "- Crear una lista con los valores de la edad y reacomodar la lista de menor a mayor valor."
   ]
  },
  {
   "cell_type": "code",
   "execution_count": 50,
   "metadata": {},
   "outputs": [
    {
     "name": "stdout",
     "output_type": "stream",
     "text": [
      "La lista contiene los siguientes datos: [53, 24, 15, 12, 31, 20]\n",
      "\n",
      "La lista acomodada de menor a mayor es:  [12, 15, 20, 24, 31, 53]\n"
     ]
    }
   ],
   "source": [
    "ldic=list(dic1.values())\n",
    "\n",
    "#Para saber como obtener solo las edades, revise la pagina 39 del libro\n",
    "\n",
    "print(\"La lista contiene los siguientes datos:\",ldic)\n",
    "\n",
    "for i in range(0,len(ldic)):\n",
    "    for j in range(0,len(ldic)):\n",
    "        if ldic[i]<ldic[j]:\n",
    "            aux=ldic[i]\n",
    "            ldic[i]=ldic[j]\n",
    "            ldic[j]=aux\n",
    "        j=j+1\n",
    "    i=i+1\n",
    "print(\"\\nLa lista acomodada de menor a mayor es: \",ldic)"
   ]
  },
  {
   "cell_type": "markdown",
   "metadata": {},
   "source": [
    "- Usando el diccionario y un loop, imprimir solo los nombres."
   ]
  },
  {
   "cell_type": "code",
   "execution_count": 51,
   "metadata": {},
   "outputs": [
    {
     "name": "stdout",
     "output_type": "stream",
     "text": [
      "El nombre numero 1 en el diccionario es Luis\n",
      "El nombre numero 2 en el diccionario es Karen\n",
      "El nombre numero 3 en el diccionario es America\n",
      "El nombre numero 4 en el diccionario es Alexander\n",
      "El nombre numero 5 en el diccionario es Tania\n",
      "El nombre numero 6 en el diccionario es Monse\n"
     ]
    }
   ],
   "source": [
    "i=1\n",
    "for key in dic1:\n",
    "    print(\"El nombre numero\",i,\"en el diccionario es\",key)\n",
    "    i=i+1\n",
    "    \n",
    "#Consulte la siguiente fuente:\n",
    "#https://devcode.la/tutoriales/diccionarios-en-python/"
   ]
  },
  {
   "cell_type": "markdown",
   "metadata": {},
   "source": [
    "- Añadir dos personas nuevas a tu diccionario, incluyendo edad."
   ]
  },
  {
   "cell_type": "code",
   "execution_count": 52,
   "metadata": {},
   "outputs": [
    {
     "name": "stdout",
     "output_type": "stream",
     "text": [
      "Agregaremos 2 personas al diccionario\n",
      "\n",
      "Persona 1\n",
      "Ingrese su nombre: Cesar\n",
      "Ingrese su edad: 21\n",
      "\n",
      "Persona 2\n",
      "Ingrese su nombre: Agustin\n",
      "Ingrese su edad: 63\n",
      "\n",
      "El Diccionario ahora contiene los siguientes datos:  {'Luis': 53, 'Karen': 24, 'America': 15, 'Alexander': 12, 'Tania': 31, 'Monse': 20, 'Cesar': 21, 'Agustin': 63}\n"
     ]
    }
   ],
   "source": [
    "print(\"Agregaremos 2 personas al diccionario\")\n",
    "for i in range(0,2):\n",
    "    print(\"\\nPersona\",i+1)\n",
    "    clv=str(input(\"Ingrese su nombre: \"))\n",
    "    edad=int(input(\"Ingrese su edad: \"))\n",
    "    dic1[clv] = edad\n",
    "\n",
    "print(\"\\nEl Diccionario ahora contiene los siguientes datos: \", dic1)\n"
   ]
  },
  {
   "cell_type": "markdown",
   "metadata": {},
   "source": [
    "### Sets\n",
    "- Crea un set con 100 numeros aleatorios enteros del 1 al 25."
   ]
  },
  {
   "cell_type": "code",
   "execution_count": 70,
   "metadata": {},
   "outputs": [
    {
     "name": "stdout",
     "output_type": "stream",
     "text": [
      "El set contiene los siguientes datos:  {1, 2, 3, 4, 5, 6, 7, 8, 9, 10, 11, 12, 13, 14, 15, 16, 17, 18, 19, 20, 21, 22, 23, 24, 25}\n"
     ]
    }
   ],
   "source": [
    "import random as r\n",
    "set1=set()\n",
    "for i in range(0,100):\n",
    "    x=r.randint(1,25)\n",
    "    set1.add(x)\n",
    "\n",
    "print(\"El set contiene los siguientes datos: \",set1)"
   ]
  },
  {
   "cell_type": "markdown",
   "metadata": {},
   "source": [
    "- Comprueba la longitud de tu set."
   ]
  },
  {
   "cell_type": "code",
   "execution_count": 71,
   "metadata": {},
   "outputs": [
    {
     "name": "stdout",
     "output_type": "stream",
     "text": [
      "La longitud del set es:  25\n"
     ]
    }
   ],
   "source": [
    "print(\"La longitud del set es: \",len(set1))"
   ]
  },
  {
   "cell_type": "markdown",
   "metadata": {},
   "source": [
    "- Crea una lista de 5 numeros aleatorios del 1 al 10 y comprueba si cada valor aparece en el set inicial."
   ]
  },
  {
   "cell_type": "code",
   "execution_count": 78,
   "metadata": {},
   "outputs": [
    {
     "name": "stdout",
     "output_type": "stream",
     "text": [
      "La lista contiene los siguientes números: [7, 8, 2, 4, 3]\n",
      "El valor 7 si aparece en el set inicial\n",
      "El valor 8 si aparece en el set inicial\n",
      "El valor 2 si aparece en el set inicial\n",
      "El valor 4 si aparece en el set inicial\n",
      "El valor 3 si aparece en el set inicial\n"
     ]
    }
   ],
   "source": [
    "lset=[]\n",
    "for i in range(0,5):\n",
    "    x=r.randint(1,10)\n",
    "    lset.append(x)\n",
    "    \n",
    "print(\"La lista contiene los siguientes números:\",lset)\n",
    "\n",
    "for i in range(0,len(lset)):\n",
    "    if lset[i] in set1:\n",
    "        print(\"El valor\",lset[i],\"si aparece en el set inicial\")"
   ]
  },
  {
   "cell_type": "code",
   "execution_count": null,
   "metadata": {},
   "outputs": [],
   "source": []
  }
 ],
 "metadata": {
  "kernelspec": {
   "display_name": "Python 3",
   "language": "python",
   "name": "python3"
  },
  "language_info": {
   "codemirror_mode": {
    "name": "ipython",
    "version": 3
   },
   "file_extension": ".py",
   "mimetype": "text/x-python",
   "name": "python",
   "nbconvert_exporter": "python",
   "pygments_lexer": "ipython3",
   "version": "3.8.5"
  }
 },
 "nbformat": 4,
 "nbformat_minor": 4
}
