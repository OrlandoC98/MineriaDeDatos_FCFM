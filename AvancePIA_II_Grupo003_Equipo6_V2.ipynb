{
 "cells": [
  {
   "cell_type": "markdown",
   "metadata": {},
   "source": [
    "# Segundo avance PIA\n",
    "Equipo: 6\n",
    "\n",
    "Grupo: 003, Lunes de 6:00 a 9:00 pm\n",
    "\n",
    "Integrantes:\n",
    "* 1728247 Castillo Cerda Manuel Orlando\n",
    "* 1854568 Cedillo Hernandez Vanessa Nahomy\n",
    "* 1847759 Lozano Rangel Antonio de Jesus\n",
    "* 1795359 Vega Flores Blanca Janeth"
   ]
  },
  {
   "cell_type": "markdown",
   "metadata": {},
   "source": [
    "## Base de datos principal\n",
    "1.- Título de la base de datos.\n",
    "  * Nombre: Donación de Órganos en México.\n",
    "  * Url: https://www.kaggle.com/joshdoit/master  \n",
    "  \n",
    "  \n",
    "2.- Descripción de los datos.\n",
    "  * Descripción breve de la base de datos.  \n",
    "    Es una tabla que contiene los registros sobre el proceso de la donación de órganos en México del 2007 al primer semestre del 2019. \n",
    "  * Descripción general.  \n",
    "    Importación de librerías y base de datos"
   ]
  },
  {
   "cell_type": "code",
   "execution_count": 1,
   "metadata": {},
   "outputs": [],
   "source": [
    "import pandas as pd\n",
    "import numpy as np\n",
    "\n",
    "# Lectura csv\n",
    "df_org = pd.read_csv(\"/Users/ManuelOrlando/Desktop/FACULTAD/Licenciatura en Actuaria/6to Semestre (7mo)/Mineria de Datos/Donacion organos Mex.csv\")"
   ]
  },
  {
   "cell_type": "markdown",
   "metadata": {},
   "source": [
    "Tamaño de la base de datos"
   ]
  },
  {
   "cell_type": "code",
   "execution_count": 2,
   "metadata": {},
   "outputs": [
    {
     "data": {
      "text/plain": [
       "(44583, 24)"
      ]
     },
     "execution_count": 2,
     "metadata": {},
     "output_type": "execute_result"
    }
   ],
   "source": [
    "df_org.shape"
   ]
  },
  {
   "cell_type": "markdown",
   "metadata": {},
   "source": [
    "De acuerdo con lo anterior, nuestra base cuenta con 44,583 filas (registros) y 24 columnas, las cuales son las siguientes:"
   ]
  },
  {
   "cell_type": "code",
   "execution_count": 3,
   "metadata": {},
   "outputs": [
    {
     "data": {
      "text/plain": [
       "Index(['SEXO', 'CODIGO_SEXO', 'TIPO_DONANTE', 'MUERTE', 'ENTIDAD_FEDERATIVA',\n",
       "       'CODIGO_ENTIDAD_FEDERATIVA', 'ESTABLECIMIENTO', 'INSTITUCION',\n",
       "       'EDAD_ANIOS', 'FECHA_PROCURACION', 'RINON_IZQUIERDO', 'RINON_DERECHO',\n",
       "       'RINON_BLOCK', 'PULMON_IZQUIERDO', 'PULMON_DERECHO', 'CORAZON',\n",
       "       'HIGADO', 'PANCREAS', 'INTESTINO', 'CORNEA_IZQUIERDA', 'CORNEA_DERECHA',\n",
       "       'PIEL', 'HUESOS', 'CORAZON_TEJIDOS'],\n",
       "      dtype='object')"
      ]
     },
     "execution_count": 3,
     "metadata": {},
     "output_type": "execute_result"
    }
   ],
   "source": [
    "df_org.columns "
   ]
  },
  {
   "cell_type": "markdown",
   "metadata": {},
   "source": [
    "Así mismo, el tipo de dato que almacena cada una de ellas se muestra a continuación"
   ]
  },
  {
   "cell_type": "code",
   "execution_count": 4,
   "metadata": {},
   "outputs": [
    {
     "data": {
      "text/plain": [
       "SEXO                          object\n",
       "CODIGO_SEXO                  float64\n",
       "TIPO_DONANTE                  object\n",
       "MUERTE                        object\n",
       "ENTIDAD_FEDERATIVA            object\n",
       "CODIGO_ENTIDAD_FEDERATIVA      int64\n",
       "ESTABLECIMIENTO               object\n",
       "INSTITUCION                   object\n",
       "EDAD_ANIOS                   float64\n",
       "FECHA_PROCURACION             object\n",
       "RINON_IZQUIERDO                int64\n",
       "RINON_DERECHO                  int64\n",
       "RINON_BLOCK                    int64\n",
       "PULMON_IZQUIERDO               int64\n",
       "PULMON_DERECHO                 int64\n",
       "CORAZON                        int64\n",
       "HIGADO                         int64\n",
       "PANCREAS                       int64\n",
       "INTESTINO                      int64\n",
       "CORNEA_IZQUIERDA               int64\n",
       "CORNEA_DERECHA                 int64\n",
       "PIEL                           int64\n",
       "HUESOS                         int64\n",
       "CORAZON_TEJIDOS                int64\n",
       "dtype: object"
      ]
     },
     "execution_count": 4,
     "metadata": {},
     "output_type": "execute_result"
    }
   ],
   "source": [
    "df_org.dtypes "
   ]
  },
  {
   "cell_type": "markdown",
   "metadata": {},
   "source": [
    "Y para darnos una idea de lo que contiene nuestra base en cada columna, veamos los primeros 8 registros"
   ]
  },
  {
   "cell_type": "code",
   "execution_count": 5,
   "metadata": {},
   "outputs": [
    {
     "data": {
      "text/html": [
       "<div>\n",
       "<style scoped>\n",
       "    .dataframe tbody tr th:only-of-type {\n",
       "        vertical-align: middle;\n",
       "    }\n",
       "\n",
       "    .dataframe tbody tr th {\n",
       "        vertical-align: top;\n",
       "    }\n",
       "\n",
       "    .dataframe thead th {\n",
       "        text-align: right;\n",
       "    }\n",
       "</style>\n",
       "<table border=\"1\" class=\"dataframe\">\n",
       "  <thead>\n",
       "    <tr style=\"text-align: right;\">\n",
       "      <th></th>\n",
       "      <th>SEXO</th>\n",
       "      <th>CODIGO_SEXO</th>\n",
       "      <th>TIPO_DONANTE</th>\n",
       "      <th>MUERTE</th>\n",
       "      <th>ENTIDAD_FEDERATIVA</th>\n",
       "      <th>CODIGO_ENTIDAD_FEDERATIVA</th>\n",
       "      <th>ESTABLECIMIENTO</th>\n",
       "      <th>INSTITUCION</th>\n",
       "      <th>EDAD_ANIOS</th>\n",
       "      <th>FECHA_PROCURACION</th>\n",
       "      <th>...</th>\n",
       "      <th>PULMON_DERECHO</th>\n",
       "      <th>CORAZON</th>\n",
       "      <th>HIGADO</th>\n",
       "      <th>PANCREAS</th>\n",
       "      <th>INTESTINO</th>\n",
       "      <th>CORNEA_IZQUIERDA</th>\n",
       "      <th>CORNEA_DERECHA</th>\n",
       "      <th>PIEL</th>\n",
       "      <th>HUESOS</th>\n",
       "      <th>CORAZON_TEJIDOS</th>\n",
       "    </tr>\n",
       "  </thead>\n",
       "  <tbody>\n",
       "    <tr>\n",
       "      <th>0</th>\n",
       "      <td>FEMENINO</td>\n",
       "      <td>2.0</td>\n",
       "      <td>CADÁVER</td>\n",
       "      <td>PARO CARDIORESPIRATORIO</td>\n",
       "      <td>NUEVO LEÓN</td>\n",
       "      <td>19</td>\n",
       "      <td>U.M.A.E. HOSPITAL DE ESPECIALIDADES No. 25</td>\n",
       "      <td>IMSS</td>\n",
       "      <td>49.0</td>\n",
       "      <td>2007-06-11</td>\n",
       "      <td>...</td>\n",
       "      <td>0</td>\n",
       "      <td>0</td>\n",
       "      <td>0</td>\n",
       "      <td>0</td>\n",
       "      <td>0</td>\n",
       "      <td>1</td>\n",
       "      <td>1</td>\n",
       "      <td>0</td>\n",
       "      <td>0</td>\n",
       "      <td>0</td>\n",
       "    </tr>\n",
       "    <tr>\n",
       "      <th>1</th>\n",
       "      <td>MASCULINO</td>\n",
       "      <td>1.0</td>\n",
       "      <td>CADÁVER</td>\n",
       "      <td>PARO CARDIORESPIRATORIO</td>\n",
       "      <td>CIUDAD DE MEXICO</td>\n",
       "      <td>9</td>\n",
       "      <td>U.M.A.E. HOSPITAL DE CARDIOLOGIA DEL CENTRO ME...</td>\n",
       "      <td>IMSS</td>\n",
       "      <td>72.0</td>\n",
       "      <td>2008-05-08</td>\n",
       "      <td>...</td>\n",
       "      <td>0</td>\n",
       "      <td>0</td>\n",
       "      <td>0</td>\n",
       "      <td>0</td>\n",
       "      <td>0</td>\n",
       "      <td>1</td>\n",
       "      <td>1</td>\n",
       "      <td>0</td>\n",
       "      <td>0</td>\n",
       "      <td>0</td>\n",
       "    </tr>\n",
       "    <tr>\n",
       "      <th>2</th>\n",
       "      <td>FEMENINO</td>\n",
       "      <td>2.0</td>\n",
       "      <td>CADÁVER</td>\n",
       "      <td>MUERTE ENCEFÁLICA</td>\n",
       "      <td>PUEBLA</td>\n",
       "      <td>21</td>\n",
       "      <td>U.M.A.E. HOSPITAL DE ESPECIALIDADES C.M.N. GRA...</td>\n",
       "      <td>IMSS</td>\n",
       "      <td>61.0</td>\n",
       "      <td>2009-04-21</td>\n",
       "      <td>...</td>\n",
       "      <td>0</td>\n",
       "      <td>0</td>\n",
       "      <td>0</td>\n",
       "      <td>0</td>\n",
       "      <td>0</td>\n",
       "      <td>1</td>\n",
       "      <td>1</td>\n",
       "      <td>0</td>\n",
       "      <td>0</td>\n",
       "      <td>0</td>\n",
       "    </tr>\n",
       "    <tr>\n",
       "      <th>3</th>\n",
       "      <td>FEMENINO</td>\n",
       "      <td>2.0</td>\n",
       "      <td>CADÁVER</td>\n",
       "      <td>PARO CARDIORESPIRATORIO</td>\n",
       "      <td>QUERÉTARO</td>\n",
       "      <td>22</td>\n",
       "      <td>HOSPITAL GENERAL DE QUERETARO</td>\n",
       "      <td>SSE</td>\n",
       "      <td>71.0</td>\n",
       "      <td>2010-04-29</td>\n",
       "      <td>...</td>\n",
       "      <td>0</td>\n",
       "      <td>0</td>\n",
       "      <td>0</td>\n",
       "      <td>0</td>\n",
       "      <td>0</td>\n",
       "      <td>0</td>\n",
       "      <td>0</td>\n",
       "      <td>0</td>\n",
       "      <td>1</td>\n",
       "      <td>0</td>\n",
       "    </tr>\n",
       "    <tr>\n",
       "      <th>4</th>\n",
       "      <td>MASCULINO</td>\n",
       "      <td>1.0</td>\n",
       "      <td>CADÁVER</td>\n",
       "      <td>PARO CARDIORESPIRATORIO</td>\n",
       "      <td>MÉXICO</td>\n",
       "      <td>15</td>\n",
       "      <td>CENTRO MEDICO \"LIC. ADOLFO LOPEZ MATEOS\" DE TE...</td>\n",
       "      <td>SSE</td>\n",
       "      <td>63.0</td>\n",
       "      <td>2011-09-16</td>\n",
       "      <td>...</td>\n",
       "      <td>0</td>\n",
       "      <td>0</td>\n",
       "      <td>0</td>\n",
       "      <td>0</td>\n",
       "      <td>0</td>\n",
       "      <td>1</td>\n",
       "      <td>1</td>\n",
       "      <td>0</td>\n",
       "      <td>0</td>\n",
       "      <td>0</td>\n",
       "    </tr>\n",
       "    <tr>\n",
       "      <th>5</th>\n",
       "      <td>FEMENINO</td>\n",
       "      <td>2.0</td>\n",
       "      <td>CADÁVER</td>\n",
       "      <td>MUERTE ENCEFÁLICA</td>\n",
       "      <td>SAN LUIS POTOSÍ</td>\n",
       "      <td>24</td>\n",
       "      <td>HOSPITAL LOMAS DE SAN LUIS INTERNACIONAL</td>\n",
       "      <td>PRIVADO</td>\n",
       "      <td>41.0</td>\n",
       "      <td>2012-03-04</td>\n",
       "      <td>...</td>\n",
       "      <td>0</td>\n",
       "      <td>0</td>\n",
       "      <td>0</td>\n",
       "      <td>0</td>\n",
       "      <td>0</td>\n",
       "      <td>1</td>\n",
       "      <td>1</td>\n",
       "      <td>0</td>\n",
       "      <td>0</td>\n",
       "      <td>0</td>\n",
       "    </tr>\n",
       "    <tr>\n",
       "      <th>6</th>\n",
       "      <td>MASCULINO</td>\n",
       "      <td>1.0</td>\n",
       "      <td>CADÁVER</td>\n",
       "      <td>MUERTE ENCEFÁLICA</td>\n",
       "      <td>GUANAJUATO</td>\n",
       "      <td>11</td>\n",
       "      <td>HOSPITAL GENERAL DE CELAYA</td>\n",
       "      <td>SSE</td>\n",
       "      <td>58.0</td>\n",
       "      <td>2013-07-12</td>\n",
       "      <td>...</td>\n",
       "      <td>0</td>\n",
       "      <td>0</td>\n",
       "      <td>0</td>\n",
       "      <td>0</td>\n",
       "      <td>0</td>\n",
       "      <td>0</td>\n",
       "      <td>0</td>\n",
       "      <td>0</td>\n",
       "      <td>1</td>\n",
       "      <td>0</td>\n",
       "    </tr>\n",
       "    <tr>\n",
       "      <th>7</th>\n",
       "      <td>FEMENINO</td>\n",
       "      <td>2.0</td>\n",
       "      <td>CADÁVER</td>\n",
       "      <td>MUERTE ENCEFÁLICA</td>\n",
       "      <td>TABASCO</td>\n",
       "      <td>27</td>\n",
       "      <td>HOSPITAL GENERAL DE ZONA C/U M.A.  No. 46</td>\n",
       "      <td>IMSS</td>\n",
       "      <td>31.0</td>\n",
       "      <td>2014-08-27</td>\n",
       "      <td>...</td>\n",
       "      <td>0</td>\n",
       "      <td>0</td>\n",
       "      <td>0</td>\n",
       "      <td>0</td>\n",
       "      <td>0</td>\n",
       "      <td>1</td>\n",
       "      <td>1</td>\n",
       "      <td>0</td>\n",
       "      <td>0</td>\n",
       "      <td>0</td>\n",
       "    </tr>\n",
       "  </tbody>\n",
       "</table>\n",
       "<p>8 rows × 24 columns</p>\n",
       "</div>"
      ],
      "text/plain": [
       "        SEXO  CODIGO_SEXO TIPO_DONANTE                   MUERTE  \\\n",
       "0   FEMENINO          2.0      CADÁVER  PARO CARDIORESPIRATORIO   \n",
       "1  MASCULINO          1.0      CADÁVER  PARO CARDIORESPIRATORIO   \n",
       "2   FEMENINO          2.0      CADÁVER        MUERTE ENCEFÁLICA   \n",
       "3   FEMENINO          2.0      CADÁVER  PARO CARDIORESPIRATORIO   \n",
       "4  MASCULINO          1.0      CADÁVER  PARO CARDIORESPIRATORIO   \n",
       "5   FEMENINO          2.0      CADÁVER        MUERTE ENCEFÁLICA   \n",
       "6  MASCULINO          1.0      CADÁVER        MUERTE ENCEFÁLICA   \n",
       "7   FEMENINO          2.0      CADÁVER        MUERTE ENCEFÁLICA   \n",
       "\n",
       "  ENTIDAD_FEDERATIVA  CODIGO_ENTIDAD_FEDERATIVA  \\\n",
       "0         NUEVO LEÓN                         19   \n",
       "1   CIUDAD DE MEXICO                          9   \n",
       "2             PUEBLA                         21   \n",
       "3          QUERÉTARO                         22   \n",
       "4             MÉXICO                         15   \n",
       "5    SAN LUIS POTOSÍ                         24   \n",
       "6         GUANAJUATO                         11   \n",
       "7            TABASCO                         27   \n",
       "\n",
       "                                     ESTABLECIMIENTO INSTITUCION  EDAD_ANIOS  \\\n",
       "0         U.M.A.E. HOSPITAL DE ESPECIALIDADES No. 25        IMSS        49.0   \n",
       "1  U.M.A.E. HOSPITAL DE CARDIOLOGIA DEL CENTRO ME...        IMSS        72.0   \n",
       "2  U.M.A.E. HOSPITAL DE ESPECIALIDADES C.M.N. GRA...        IMSS        61.0   \n",
       "3                      HOSPITAL GENERAL DE QUERETARO         SSE        71.0   \n",
       "4  CENTRO MEDICO \"LIC. ADOLFO LOPEZ MATEOS\" DE TE...         SSE        63.0   \n",
       "5           HOSPITAL LOMAS DE SAN LUIS INTERNACIONAL     PRIVADO        41.0   \n",
       "6                         HOSPITAL GENERAL DE CELAYA         SSE        58.0   \n",
       "7          HOSPITAL GENERAL DE ZONA C/U M.A.  No. 46        IMSS        31.0   \n",
       "\n",
       "  FECHA_PROCURACION  ...  PULMON_DERECHO  CORAZON  HIGADO  PANCREAS  \\\n",
       "0        2007-06-11  ...               0        0       0         0   \n",
       "1        2008-05-08  ...               0        0       0         0   \n",
       "2        2009-04-21  ...               0        0       0         0   \n",
       "3        2010-04-29  ...               0        0       0         0   \n",
       "4        2011-09-16  ...               0        0       0         0   \n",
       "5        2012-03-04  ...               0        0       0         0   \n",
       "6        2013-07-12  ...               0        0       0         0   \n",
       "7        2014-08-27  ...               0        0       0         0   \n",
       "\n",
       "   INTESTINO  CORNEA_IZQUIERDA  CORNEA_DERECHA  PIEL  HUESOS  CORAZON_TEJIDOS  \n",
       "0          0                 1               1     0       0                0  \n",
       "1          0                 1               1     0       0                0  \n",
       "2          0                 1               1     0       0                0  \n",
       "3          0                 0               0     0       1                0  \n",
       "4          0                 1               1     0       0                0  \n",
       "5          0                 1               1     0       0                0  \n",
       "6          0                 0               0     0       1                0  \n",
       "7          0                 1               1     0       0                0  \n",
       "\n",
       "[8 rows x 24 columns]"
      ]
     },
     "execution_count": 5,
     "metadata": {},
     "output_type": "execute_result"
    }
   ],
   "source": [
    "df_org.head(8) "
   ]
  },
  {
   "cell_type": "markdown",
   "metadata": {},
   "source": [
    "3.- Justificación del uso de datos.  \n",
    "  * ¿Cuáles son las características que les llamó la atención de los datos?¿Qué les hizo querer trabajar con ellos?  \n",
    "    Principalmente, que la base de datos está bastante completa, al menos para nuestro objetivo, así como hacer énfasis en que la donación de órganos nos parece un tema del cual se debería conocer más, ya que es algo importante y, sin embargo, mucha gente no cuenta con la cultura de donar. \n",
    "  * ¿Qué beneficio encuentran de trabajar con estos datos?  \n",
    "    Conocer realmente que órganos se extraen en los hospitales de nuestro país y ver si todas las entidades federativas realizan un aporte a este proceso.\n",
    "    \n",
    "\n",
    "4.- Objetivos.\n",
    "  * Objetivo principal.\n",
    "    * Verificar si con el paso de los años ha incrementado la cultura de donación.\n",
    "  * Objetivos secundarios.\n",
    "    * Determinar el rango de edad en el que la mayoría de las personas realiza alguna donación.\n",
    "    * Conocer que órganos suelen ser los más donados.\n",
    "    * Identificar la institución que realiza el mayor número de procedimientos médicos correspondientes.\n",
    "    * Comparar la cultura de donación de las entidades federativas."
   ]
  },
  {
   "cell_type": "markdown",
   "metadata": {},
   "source": [
    "### Desarrollo de las herramientas.\n",
    "**1. Limpieza de datos.**\n",
    "* Datos sin manipulación  \n",
    "Anteriormente, ya habíamos visto los primeros 8 registros de nuestra base de datos, por lo cual ahora solo se mostrarán los últimos 8 registros de la misma."
   ]
  },
  {
   "cell_type": "code",
   "execution_count": 6,
   "metadata": {},
   "outputs": [
    {
     "data": {
      "text/html": [
       "<div>\n",
       "<style scoped>\n",
       "    .dataframe tbody tr th:only-of-type {\n",
       "        vertical-align: middle;\n",
       "    }\n",
       "\n",
       "    .dataframe tbody tr th {\n",
       "        vertical-align: top;\n",
       "    }\n",
       "\n",
       "    .dataframe thead th {\n",
       "        text-align: right;\n",
       "    }\n",
       "</style>\n",
       "<table border=\"1\" class=\"dataframe\">\n",
       "  <thead>\n",
       "    <tr style=\"text-align: right;\">\n",
       "      <th></th>\n",
       "      <th>SEXO</th>\n",
       "      <th>CODIGO_SEXO</th>\n",
       "      <th>TIPO_DONANTE</th>\n",
       "      <th>MUERTE</th>\n",
       "      <th>ENTIDAD_FEDERATIVA</th>\n",
       "      <th>CODIGO_ENTIDAD_FEDERATIVA</th>\n",
       "      <th>ESTABLECIMIENTO</th>\n",
       "      <th>INSTITUCION</th>\n",
       "      <th>EDAD_ANIOS</th>\n",
       "      <th>FECHA_PROCURACION</th>\n",
       "      <th>...</th>\n",
       "      <th>PULMON_DERECHO</th>\n",
       "      <th>CORAZON</th>\n",
       "      <th>HIGADO</th>\n",
       "      <th>PANCREAS</th>\n",
       "      <th>INTESTINO</th>\n",
       "      <th>CORNEA_IZQUIERDA</th>\n",
       "      <th>CORNEA_DERECHA</th>\n",
       "      <th>PIEL</th>\n",
       "      <th>HUESOS</th>\n",
       "      <th>CORAZON_TEJIDOS</th>\n",
       "    </tr>\n",
       "  </thead>\n",
       "  <tbody>\n",
       "    <tr>\n",
       "      <th>44575</th>\n",
       "      <td>MASCULINO</td>\n",
       "      <td>1.0</td>\n",
       "      <td>VIVO</td>\n",
       "      <td>NO APLICA</td>\n",
       "      <td>AGUASCALIENTES</td>\n",
       "      <td>1</td>\n",
       "      <td>CENTENARIO HOSPITAL MIGUEL HIDALGO</td>\n",
       "      <td>SSE</td>\n",
       "      <td>39.0</td>\n",
       "      <td>2019-06-27</td>\n",
       "      <td>...</td>\n",
       "      <td>0</td>\n",
       "      <td>0</td>\n",
       "      <td>0</td>\n",
       "      <td>0</td>\n",
       "      <td>0</td>\n",
       "      <td>0</td>\n",
       "      <td>0</td>\n",
       "      <td>0</td>\n",
       "      <td>0</td>\n",
       "      <td>0</td>\n",
       "    </tr>\n",
       "    <tr>\n",
       "      <th>44576</th>\n",
       "      <td>FEMENINO</td>\n",
       "      <td>2.0</td>\n",
       "      <td>VIVO</td>\n",
       "      <td>NO APLICA</td>\n",
       "      <td>CHIHUAHUA</td>\n",
       "      <td>8</td>\n",
       "      <td>SERVICIOS HOSPITALARIOS DE MEXICO S.A. DE C.V.</td>\n",
       "      <td>PRIVADO</td>\n",
       "      <td>60.0</td>\n",
       "      <td>2019-06-26</td>\n",
       "      <td>...</td>\n",
       "      <td>0</td>\n",
       "      <td>0</td>\n",
       "      <td>0</td>\n",
       "      <td>0</td>\n",
       "      <td>0</td>\n",
       "      <td>0</td>\n",
       "      <td>0</td>\n",
       "      <td>0</td>\n",
       "      <td>0</td>\n",
       "      <td>0</td>\n",
       "    </tr>\n",
       "    <tr>\n",
       "      <th>44577</th>\n",
       "      <td>FEMENINO</td>\n",
       "      <td>2.0</td>\n",
       "      <td>VIVO</td>\n",
       "      <td>NO APLICA</td>\n",
       "      <td>SAN LUIS POTOSÍ</td>\n",
       "      <td>24</td>\n",
       "      <td>HOSPITAL GENERAL DE ZONA No. 50</td>\n",
       "      <td>IMSS</td>\n",
       "      <td>21.0</td>\n",
       "      <td>2019-06-27</td>\n",
       "      <td>...</td>\n",
       "      <td>0</td>\n",
       "      <td>0</td>\n",
       "      <td>0</td>\n",
       "      <td>0</td>\n",
       "      <td>0</td>\n",
       "      <td>0</td>\n",
       "      <td>0</td>\n",
       "      <td>0</td>\n",
       "      <td>0</td>\n",
       "      <td>0</td>\n",
       "    </tr>\n",
       "    <tr>\n",
       "      <th>44578</th>\n",
       "      <td>FEMENINO</td>\n",
       "      <td>2.0</td>\n",
       "      <td>VIVO</td>\n",
       "      <td>NO APLICA</td>\n",
       "      <td>CIUDAD DE MEXICO</td>\n",
       "      <td>9</td>\n",
       "      <td>UNIDAD MEDICA DE ALTA ESPECIALIDAD DOCTOR GAUD...</td>\n",
       "      <td>IMSS</td>\n",
       "      <td>44.0</td>\n",
       "      <td>2019-06-06</td>\n",
       "      <td>...</td>\n",
       "      <td>0</td>\n",
       "      <td>0</td>\n",
       "      <td>0</td>\n",
       "      <td>0</td>\n",
       "      <td>0</td>\n",
       "      <td>0</td>\n",
       "      <td>0</td>\n",
       "      <td>0</td>\n",
       "      <td>0</td>\n",
       "      <td>0</td>\n",
       "    </tr>\n",
       "    <tr>\n",
       "      <th>44579</th>\n",
       "      <td>FEMENINO</td>\n",
       "      <td>2.0</td>\n",
       "      <td>VIVO</td>\n",
       "      <td>NO APLICA</td>\n",
       "      <td>COAHUILA</td>\n",
       "      <td>5</td>\n",
       "      <td>U.M.A.E. HOSPITAL DE ESPECIALIDADES NO. 71</td>\n",
       "      <td>IMSS</td>\n",
       "      <td>33.0</td>\n",
       "      <td>2019-06-27</td>\n",
       "      <td>...</td>\n",
       "      <td>0</td>\n",
       "      <td>0</td>\n",
       "      <td>0</td>\n",
       "      <td>0</td>\n",
       "      <td>0</td>\n",
       "      <td>0</td>\n",
       "      <td>0</td>\n",
       "      <td>0</td>\n",
       "      <td>0</td>\n",
       "      <td>0</td>\n",
       "    </tr>\n",
       "    <tr>\n",
       "      <th>44580</th>\n",
       "      <td>MASCULINO</td>\n",
       "      <td>1.0</td>\n",
       "      <td>VIVO</td>\n",
       "      <td>NO APLICA</td>\n",
       "      <td>CIUDAD DE MEXICO</td>\n",
       "      <td>9</td>\n",
       "      <td>HOSPITAL CENTRAL MILITAR</td>\n",
       "      <td>SEDENA</td>\n",
       "      <td>43.0</td>\n",
       "      <td>2019-06-27</td>\n",
       "      <td>...</td>\n",
       "      <td>0</td>\n",
       "      <td>0</td>\n",
       "      <td>0</td>\n",
       "      <td>0</td>\n",
       "      <td>0</td>\n",
       "      <td>0</td>\n",
       "      <td>0</td>\n",
       "      <td>0</td>\n",
       "      <td>0</td>\n",
       "      <td>0</td>\n",
       "    </tr>\n",
       "    <tr>\n",
       "      <th>44581</th>\n",
       "      <td>MASCULINO</td>\n",
       "      <td>1.0</td>\n",
       "      <td>VIVO</td>\n",
       "      <td>NO APLICA</td>\n",
       "      <td>JALISCO</td>\n",
       "      <td>14</td>\n",
       "      <td>HOSPITAL DE PEDIATRÍA C.M.O.</td>\n",
       "      <td>IMSS</td>\n",
       "      <td>21.0</td>\n",
       "      <td>2019-06-25</td>\n",
       "      <td>...</td>\n",
       "      <td>0</td>\n",
       "      <td>0</td>\n",
       "      <td>1</td>\n",
       "      <td>0</td>\n",
       "      <td>0</td>\n",
       "      <td>0</td>\n",
       "      <td>0</td>\n",
       "      <td>0</td>\n",
       "      <td>0</td>\n",
       "      <td>0</td>\n",
       "    </tr>\n",
       "    <tr>\n",
       "      <th>44582</th>\n",
       "      <td>FEMENINO</td>\n",
       "      <td>2.0</td>\n",
       "      <td>VIVO</td>\n",
       "      <td>NO APLICA</td>\n",
       "      <td>SINALOA</td>\n",
       "      <td>25</td>\n",
       "      <td>HOSPITAL FATIMA, S.A. DE C.V.</td>\n",
       "      <td>PRIVADO</td>\n",
       "      <td>45.0</td>\n",
       "      <td>2019-06-29</td>\n",
       "      <td>...</td>\n",
       "      <td>0</td>\n",
       "      <td>0</td>\n",
       "      <td>0</td>\n",
       "      <td>0</td>\n",
       "      <td>0</td>\n",
       "      <td>0</td>\n",
       "      <td>0</td>\n",
       "      <td>0</td>\n",
       "      <td>0</td>\n",
       "      <td>0</td>\n",
       "    </tr>\n",
       "  </tbody>\n",
       "</table>\n",
       "<p>8 rows × 24 columns</p>\n",
       "</div>"
      ],
      "text/plain": [
       "            SEXO  CODIGO_SEXO TIPO_DONANTE     MUERTE ENTIDAD_FEDERATIVA  \\\n",
       "44575  MASCULINO          1.0         VIVO  NO APLICA     AGUASCALIENTES   \n",
       "44576   FEMENINO          2.0         VIVO  NO APLICA          CHIHUAHUA   \n",
       "44577   FEMENINO          2.0         VIVO  NO APLICA    SAN LUIS POTOSÍ   \n",
       "44578   FEMENINO          2.0         VIVO  NO APLICA   CIUDAD DE MEXICO   \n",
       "44579   FEMENINO          2.0         VIVO  NO APLICA           COAHUILA   \n",
       "44580  MASCULINO          1.0         VIVO  NO APLICA   CIUDAD DE MEXICO   \n",
       "44581  MASCULINO          1.0         VIVO  NO APLICA            JALISCO   \n",
       "44582   FEMENINO          2.0         VIVO  NO APLICA            SINALOA   \n",
       "\n",
       "       CODIGO_ENTIDAD_FEDERATIVA  \\\n",
       "44575                          1   \n",
       "44576                          8   \n",
       "44577                         24   \n",
       "44578                          9   \n",
       "44579                          5   \n",
       "44580                          9   \n",
       "44581                         14   \n",
       "44582                         25   \n",
       "\n",
       "                                         ESTABLECIMIENTO INSTITUCION  \\\n",
       "44575                 CENTENARIO HOSPITAL MIGUEL HIDALGO         SSE   \n",
       "44576     SERVICIOS HOSPITALARIOS DE MEXICO S.A. DE C.V.     PRIVADO   \n",
       "44577                    HOSPITAL GENERAL DE ZONA No. 50        IMSS   \n",
       "44578  UNIDAD MEDICA DE ALTA ESPECIALIDAD DOCTOR GAUD...        IMSS   \n",
       "44579         U.M.A.E. HOSPITAL DE ESPECIALIDADES NO. 71        IMSS   \n",
       "44580                           HOSPITAL CENTRAL MILITAR      SEDENA   \n",
       "44581                       HOSPITAL DE PEDIATRÍA C.M.O.        IMSS   \n",
       "44582                      HOSPITAL FATIMA, S.A. DE C.V.     PRIVADO   \n",
       "\n",
       "       EDAD_ANIOS FECHA_PROCURACION  ...  PULMON_DERECHO  CORAZON  HIGADO  \\\n",
       "44575        39.0        2019-06-27  ...               0        0       0   \n",
       "44576        60.0        2019-06-26  ...               0        0       0   \n",
       "44577        21.0        2019-06-27  ...               0        0       0   \n",
       "44578        44.0        2019-06-06  ...               0        0       0   \n",
       "44579        33.0        2019-06-27  ...               0        0       0   \n",
       "44580        43.0        2019-06-27  ...               0        0       0   \n",
       "44581        21.0        2019-06-25  ...               0        0       1   \n",
       "44582        45.0        2019-06-29  ...               0        0       0   \n",
       "\n",
       "       PANCREAS  INTESTINO  CORNEA_IZQUIERDA  CORNEA_DERECHA  PIEL  HUESOS  \\\n",
       "44575         0          0                 0               0     0       0   \n",
       "44576         0          0                 0               0     0       0   \n",
       "44577         0          0                 0               0     0       0   \n",
       "44578         0          0                 0               0     0       0   \n",
       "44579         0          0                 0               0     0       0   \n",
       "44580         0          0                 0               0     0       0   \n",
       "44581         0          0                 0               0     0       0   \n",
       "44582         0          0                 0               0     0       0   \n",
       "\n",
       "       CORAZON_TEJIDOS  \n",
       "44575                0  \n",
       "44576                0  \n",
       "44577                0  \n",
       "44578                0  \n",
       "44579                0  \n",
       "44580                0  \n",
       "44581                0  \n",
       "44582                0  \n",
       "\n",
       "[8 rows x 24 columns]"
      ]
     },
     "execution_count": 6,
     "metadata": {},
     "output_type": "execute_result"
    }
   ],
   "source": [
    "df_org.tail(8)"
   ]
  },
  {
   "cell_type": "markdown",
   "metadata": {},
   "source": [
    "Además, es necesario ver cuales columnas cuentan con valores nulos."
   ]
  },
  {
   "cell_type": "code",
   "execution_count": 7,
   "metadata": {},
   "outputs": [
    {
     "data": {
      "text/plain": [
       "SEXO                          True\n",
       "CODIGO_SEXO                   True\n",
       "TIPO_DONANTE                 False\n",
       "MUERTE                       False\n",
       "ENTIDAD_FEDERATIVA           False\n",
       "CODIGO_ENTIDAD_FEDERATIVA    False\n",
       "ESTABLECIMIENTO              False\n",
       "INSTITUCION                  False\n",
       "EDAD_ANIOS                   False\n",
       "FECHA_PROCURACION            False\n",
       "RINON_IZQUIERDO              False\n",
       "RINON_DERECHO                False\n",
       "RINON_BLOCK                  False\n",
       "PULMON_IZQUIERDO             False\n",
       "PULMON_DERECHO               False\n",
       "CORAZON                      False\n",
       "HIGADO                       False\n",
       "PANCREAS                     False\n",
       "INTESTINO                    False\n",
       "CORNEA_IZQUIERDA             False\n",
       "CORNEA_DERECHA               False\n",
       "PIEL                         False\n",
       "HUESOS                       False\n",
       "CORAZON_TEJIDOS              False\n",
       "dtype: bool"
      ]
     },
     "execution_count": 7,
     "metadata": {},
     "output_type": "execute_result"
    }
   ],
   "source": [
    "df_org.isnull().any() "
   ]
  },
  {
   "cell_type": "markdown",
   "metadata": {},
   "source": [
    "Y posterior a ello, hay que saber en cuantas celdas de ellas se tienen dichos valores."
   ]
  },
  {
   "cell_type": "code",
   "execution_count": 8,
   "metadata": {},
   "outputs": [
    {
     "data": {
      "text/plain": [
       "SEXO                         4\n",
       "CODIGO_SEXO                  4\n",
       "TIPO_DONANTE                 0\n",
       "MUERTE                       0\n",
       "ENTIDAD_FEDERATIVA           0\n",
       "CODIGO_ENTIDAD_FEDERATIVA    0\n",
       "ESTABLECIMIENTO              0\n",
       "INSTITUCION                  0\n",
       "EDAD_ANIOS                   0\n",
       "FECHA_PROCURACION            0\n",
       "RINON_IZQUIERDO              0\n",
       "RINON_DERECHO                0\n",
       "RINON_BLOCK                  0\n",
       "PULMON_IZQUIERDO             0\n",
       "PULMON_DERECHO               0\n",
       "CORAZON                      0\n",
       "HIGADO                       0\n",
       "PANCREAS                     0\n",
       "INTESTINO                    0\n",
       "CORNEA_IZQUIERDA             0\n",
       "CORNEA_DERECHA               0\n",
       "PIEL                         0\n",
       "HUESOS                       0\n",
       "CORAZON_TEJIDOS              0\n",
       "dtype: int64"
      ]
     },
     "execution_count": 8,
     "metadata": {},
     "output_type": "execute_result"
    }
   ],
   "source": [
    "df_org.isnull().sum()"
   ]
  },
  {
   "cell_type": "markdown",
   "metadata": {},
   "source": [
    "  * Proceso de limpieza  \n",
    "    El proceso de limpieza de nuestra base de datos consta de 3 pasos:\n",
    "    1. Eliminar las filas con valores nulos, lo cual es posible ya que son pocas, entonces no se ve afectado nuestro análisis."
   ]
  },
  {
   "cell_type": "code",
   "execution_count": 9,
   "metadata": {},
   "outputs": [
    {
     "data": {
      "text/plain": [
       "SEXO                         0\n",
       "CODIGO_SEXO                  0\n",
       "TIPO_DONANTE                 0\n",
       "MUERTE                       0\n",
       "ENTIDAD_FEDERATIVA           0\n",
       "CODIGO_ENTIDAD_FEDERATIVA    0\n",
       "ESTABLECIMIENTO              0\n",
       "INSTITUCION                  0\n",
       "EDAD_ANIOS                   0\n",
       "FECHA_PROCURACION            0\n",
       "RINON_IZQUIERDO              0\n",
       "RINON_DERECHO                0\n",
       "RINON_BLOCK                  0\n",
       "PULMON_IZQUIERDO             0\n",
       "PULMON_DERECHO               0\n",
       "CORAZON                      0\n",
       "HIGADO                       0\n",
       "PANCREAS                     0\n",
       "INTESTINO                    0\n",
       "CORNEA_IZQUIERDA             0\n",
       "CORNEA_DERECHA               0\n",
       "PIEL                         0\n",
       "HUESOS                       0\n",
       "CORAZON_TEJIDOS              0\n",
       "dtype: int64"
      ]
     },
     "execution_count": 9,
     "metadata": {},
     "output_type": "execute_result"
    }
   ],
   "source": [
    "df_org = df_org.dropna()\n",
    "df_org.isnull().sum() #Verifica que no haya ningún valor nulo en las columnas."
   ]
  },
  {
   "cell_type": "markdown",
   "metadata": {},
   "source": [
    "    2. Eliminar las columnas que contienen códigos, ya que se considera que no son necesarias."
   ]
  },
  {
   "cell_type": "code",
   "execution_count": 10,
   "metadata": {},
   "outputs": [
    {
     "data": {
      "text/plain": [
       "(44579, 22)"
      ]
     },
     "execution_count": 10,
     "metadata": {},
     "output_type": "execute_result"
    }
   ],
   "source": [
    "df_org = df_org.drop(['CODIGO_SEXO', 'CODIGO_ENTIDAD_FEDERATIVA'], axis=1) \n",
    "df_org.shape "
   ]
  },
  {
   "cell_type": "markdown",
   "metadata": {},
   "source": [
    "    3.  Anteriormente, se encontró que ciertos donantes tenían edades \"imposibles\", es decir, se mostraban personas menores de 0 o mayores a 100 años, por lo cual también se eliminaron sus filas correspondientes."
   ]
  },
  {
   "cell_type": "code",
   "execution_count": 11,
   "metadata": {},
   "outputs": [
    {
     "data": {
      "text/plain": [
       "(44511, 22)"
      ]
     },
     "execution_count": 11,
     "metadata": {},
     "output_type": "execute_result"
    }
   ],
   "source": [
    "df_org = df_org.drop(df_org[df_org['EDAD_ANIOS']>100].index) \n",
    "df_org = df_org.drop(df_org[df_org['EDAD_ANIOS']<0].index) \n",
    "df_org.shape \n",
    "\n",
    "# http://exponentis.es/como-eliminar-filas-de-un-dataframe-de-python-pandas-segun-una-condicion"
   ]
  },
  {
   "cell_type": "markdown",
   "metadata": {},
   "source": [
    "  * Base de datos limpia.  \n",
    "    Después de eliminar los datos no deseados, se procede a guardar la nueva base."
   ]
  },
  {
   "cell_type": "code",
   "execution_count": 12,
   "metadata": {},
   "outputs": [],
   "source": [
    "CleanBase = df_org\n",
    "CleanBase.to_csv('/Users/ManuelOrlando/Desktop/FACULTAD/Licenciatura en Actuaria/6to Semestre (7mo)/Mineria de Datos/DonarOrganos_CleanBase.csv', index=False)"
   ]
  },
  {
   "cell_type": "markdown",
   "metadata": {},
   "source": [
    "**2. Estadística básica de los datos.**  \n",
    "Primero se analizará el registro de las edades, con el fin de darnos una idea de cual es rango de edad en el que la mayoría de las personas realizan alguna donación."
   ]
  },
  {
   "cell_type": "code",
   "execution_count": 13,
   "metadata": {},
   "outputs": [
    {
     "data": {
      "text/plain": [
       "count    44511.000000\n",
       "mean        41.276986\n",
       "std         15.550361\n",
       "min          0.000000\n",
       "25%         30.000000\n",
       "50%         41.000000\n",
       "75%         52.000000\n",
       "max        100.000000\n",
       "Name: EDAD_ANIOS, dtype: float64"
      ]
     },
     "execution_count": 13,
     "metadata": {},
     "output_type": "execute_result"
    }
   ],
   "source": [
    "df_org['EDAD_ANIOS'].describe()"
   ]
  },
  {
   "cell_type": "code",
   "execution_count": 14,
   "metadata": {},
   "outputs": [
    {
     "data": {
      "text/plain": [
       "45.0"
      ]
     },
     "execution_count": 14,
     "metadata": {},
     "output_type": "execute_result"
    }
   ],
   "source": [
    "import statistics as stat\n",
    "stat.mode(df_org['EDAD_ANIOS'])\n",
    "\n",
    "# https://es.stackoverflow.com/questions/399811/c%C3%B3mo-calcular-en-python-usando-numpy-la-moda-estad%C3%ADsticas-moda-media-medi"
   ]
  },
  {
   "cell_type": "markdown",
   "metadata": {},
   "source": [
    "De acuerdo con lo anterior, tenemos que la edad promedio de los 44511 donantes es 41.27 años, siendo el menor de 0 años y el mayor de 100 años. Y encontramos que la mayoría de los donantes tienen 45 años.\n",
    "\n",
    "Enseguida, se analizará el registro de las entidades federativas, pues nos indicará en cuál de ellas se tiene la mejor cultura de donación."
   ]
  },
  {
   "cell_type": "code",
   "execution_count": 15,
   "metadata": {},
   "outputs": [
    {
     "data": {
      "text/plain": [
       "count                44511\n",
       "unique                  32\n",
       "top       CIUDAD DE MEXICO\n",
       "freq                 11241\n",
       "Name: ENTIDAD_FEDERATIVA, dtype: object"
      ]
     },
     "execution_count": 15,
     "metadata": {},
     "output_type": "execute_result"
    }
   ],
   "source": [
    "df_org['ENTIDAD_FEDERATIVA'].describe()"
   ]
  },
  {
   "cell_type": "markdown",
   "metadata": {},
   "source": [
    "La descripción anterior nos indica que, de las 32 entidades federativas, la Cd. de México es el lugar en el que la mayor parte de los donantes realizan el procedimiento médico correspondiente a la donación, tenemos que de un total de 44511 donantes, 11241 realizaron el procedimiento ahí.\n",
    "\n",
    "También, se analizará el registro de las instituciones, ya que deseamos saber cuál de ellas realiza el mayor número de procedimientos médicos correspondientes."
   ]
  },
  {
   "cell_type": "code",
   "execution_count": 16,
   "metadata": {},
   "outputs": [
    {
     "data": {
      "text/plain": [
       "count     44511\n",
       "unique        9\n",
       "top        IMSS\n",
       "freq      19538\n",
       "Name: INSTITUCION, dtype: object"
      ]
     },
     "execution_count": 16,
     "metadata": {},
     "output_type": "execute_result"
    }
   ],
   "source": [
    "df_org['INSTITUCION'].describe()"
   ]
  },
  {
   "cell_type": "markdown",
   "metadata": {},
   "source": [
    "Este resultado nos muestra que el IMSS predomina entre las 9 instituciones de nuestra base, es decir, es la institución a la cual la mayoría acude para realizar el procedimiento correspondiente a la donación, tenemos que de un total de 44511 donantes, 19538 realizaron el procedimiento ahí.\n",
    "\n",
    "Ahora bien, también es importante analizar la información estadística de todas las columnas cuyo valor corresponde a los órganos donados, sin embargo, al ser 14 órganos en la base, este análisis podría ser muy largo, por lo cual para no tener que analizar órgano por órgano, se generará una nueva columna, cuyos datos sean la cantidad total de órganos donados por cada persona."
   ]
  },
  {
   "cell_type": "code",
   "execution_count": 17,
   "metadata": {},
   "outputs": [],
   "source": [
    "df_org['SUMA']=df_org['RINON_IZQUIERDO']+df_org['RINON_DERECHO']+df_org['RINON_BLOCK']+df_org['PULMON_IZQUIERDO']+df_org['PULMON_DERECHO']+df_org['CORAZON']+df_org['HIGADO']+df_org['PANCREAS']+df_org['INTESTINO']+df_org['CORNEA_IZQUIERDA']+df_org['CORNEA_DERECHA']+df_org['PIEL']+df_org['HUESOS']+df_org['CORAZON_TEJIDOS']"
   ]
  },
  {
   "cell_type": "markdown",
   "metadata": {},
   "source": [
    "Una vez generada dicha columna, se procede con el análisis."
   ]
  },
  {
   "cell_type": "code",
   "execution_count": 18,
   "metadata": {},
   "outputs": [
    {
     "data": {
      "text/plain": [
       "78867"
      ]
     },
     "execution_count": 18,
     "metadata": {},
     "output_type": "execute_result"
    }
   ],
   "source": [
    "df_org['SUMA'].sum()"
   ]
  },
  {
   "cell_type": "code",
   "execution_count": 19,
   "metadata": {},
   "outputs": [
    {
     "data": {
      "text/plain": [
       "count    44511.000000\n",
       "mean         1.771854\n",
       "std          1.275455\n",
       "min          0.000000\n",
       "25%          1.000000\n",
       "50%          1.000000\n",
       "75%          2.000000\n",
       "max         19.000000\n",
       "Name: SUMA, dtype: float64"
      ]
     },
     "execution_count": 19,
     "metadata": {},
     "output_type": "execute_result"
    }
   ],
   "source": [
    "df_org['SUMA'].describe()"
   ]
  },
  {
   "cell_type": "markdown",
   "metadata": {},
   "source": [
    "De acuerdo con lo anterior, del 2007 al primer semestre del 2019 se han realizado 78867 donaciones de órganos en México, con un promedio de casi 1.77 órganos por persona. Hay que hacer énfasis en que, de los 44511 donantes, hay quienes realmente no donaron ni un órgano, lo cual quizás suene extraño, pero probablemente durante el procedimiento médico se daño el órgano a donar; por otro lado, hay al menos una persona que hizo la donación de 19 órganos en total.\n",
    "\n",
    "Para finalizar, se analizará el registro del tipo de donador, esto para obtener información que contribuya al objetivo principal."
   ]
  },
  {
   "cell_type": "code",
   "execution_count": 20,
   "metadata": {},
   "outputs": [
    {
     "data": {
      "text/plain": [
       "count     44511\n",
       "unique        2\n",
       "top        VIVO\n",
       "freq      24648\n",
       "Name: TIPO_DONANTE, dtype: object"
      ]
     },
     "execution_count": 20,
     "metadata": {},
     "output_type": "execute_result"
    }
   ],
   "source": [
    "df_org['TIPO_DONANTE'].describe()"
   ]
  },
  {
   "cell_type": "markdown",
   "metadata": {},
   "source": [
    "Esta descripción muestra que la mayor parte de las donaciones fueron realizadas por personas con vida, sin embargo, hay que notar que para los 2 tipos de donadores tenemos casi la misma proporción."
   ]
  },
  {
   "cell_type": "markdown",
   "metadata": {},
   "source": [
    "**3. Gráficas.**  \n",
    "* *Histograma de edades*"
   ]
  },
  {
   "cell_type": "code",
   "execution_count": 21,
   "metadata": {},
   "outputs": [
    {
     "data": {
      "text/plain": [
       "<AxesSubplot:ylabel='Frequency'>"
      ]
     },
     "execution_count": 21,
     "metadata": {},
     "output_type": "execute_result"
    },
    {
     "data": {
      "image/png": "[encoded data removed]",
      "text/plain": [
       "<Figure size 432x288 with 1 Axes>"
      ]
     },
     "metadata": {
      "needs_background": "light"
     },
     "output_type": "display_data"
    }
   ],
   "source": [
    "df_org['EDAD_ANIOS'].plot.hist()"
   ]
  },
  {
   "cell_type": "markdown",
   "metadata": {},
   "source": [
    "De acuerdo con la gráfica anterior, la mayoría de los donadores tenían entre 40 y 50 años cuando realizaron el procedimiento médico correspondiente, y podemos notar que son pocos los donadores cuya edad es menor a 20 o mayor a 70 años, lo cual quizás es algo obvio, pues, de acuerdo con la ley, los menores de edad no pueden donar órganos, y quienes tienen más de 70 años probablemente no son aptos para realizar el procedimiento.\n",
    "\n",
    "* *Stacked plot edad-tipo de donante*"
   ]
  },
  {
   "cell_type": "code",
   "execution_count": 22,
   "metadata": {},
   "outputs": [
    {
     "data": {
      "text/plain": [
       "<AxesSubplot:xlabel='EDAD_ANIOS'>"
      ]
     },
     "execution_count": 22,
     "metadata": {},
     "output_type": "execute_result"
    },
    {
     "data": {
      "image/png": "[encoded data removed]",
      "text/plain": [
       "<Figure size 432x288 with 1 Axes>"
      ]
     },
     "metadata": {
      "needs_background": "light"
     },
     "output_type": "display_data"
    }
   ],
   "source": [
    "EdadVsTipo = df_org.groupby(['EDAD_ANIOS', 'TIPO_DONANTE'])['EDAD_ANIOS'].count().unstack('TIPO_DONANTE').fillna(0)\n",
    "EdadVsTipo.plot.area()"
   ]
  },
  {
   "cell_type": "markdown",
   "metadata": {},
   "source": [
    "El resultado anterior nos muestra que la mayor parte de los donantes de tipo vivo suelen tener entre 40 y 50 años, mientras que los donadores de tipo cadáver rondan entre 45 y 60 años.\n",
    "\n",
    "* *Stacked plot entidades federativas-tipo de donante*"
   ]
  },
  {
   "cell_type": "code",
   "execution_count": 23,
   "metadata": {},
   "outputs": [
    {
     "data": {
      "text/plain": [
       "<AxesSubplot:xlabel='ENTIDAD_FEDERATIVA'>"
      ]
     },
     "execution_count": 23,
     "metadata": {},
     "output_type": "execute_result"
    },
    {
     "data": {
      "image/png": "[encoded data removed]",
      "text/plain": [
       "<Figure size 432x288 with 1 Axes>"
      ]
     },
     "metadata": {
      "needs_background": "light"
     },
     "output_type": "display_data"
    }
   ],
   "source": [
    "EntidadVsTipo = df_org.groupby(['ENTIDAD_FEDERATIVA', 'TIPO_DONANTE'])['ENTIDAD_FEDERATIVA'].count().unstack('TIPO_DONANTE').fillna(0)\n",
    "EntidadVsTipo.plot.bar(stacked=True)\n",
    "\n",
    "# https://stackoverflow.com/questions/23415500/pandas-plotting-a-stacked-bar-chart"
   ]
  },
  {
   "cell_type": "markdown",
   "metadata": {},
   "source": [
    "Notemos que la mayoría de los donadores realizaron el procedimiento médico en la Cd. de México y, de acuerdo con esta gráfica, podemos decir que en dicho lugar se tiene buena cultura de donación, ya que la mayoría de sus habitantes realizan donaciones mientras viven. En cambio, tenemos todo lo contrario en el estado de México, en el cual la mayoría de las personas donan solamente cuando fallecen.\n",
    "\n",
    "* *Countplot de instituciones*"
   ]
  },
  {
   "cell_type": "code",
   "execution_count": 24,
   "metadata": {},
   "outputs": [
    {
     "name": "stderr",
     "output_type": "stream",
     "text": [
      "C:\\Users\\ManuelOrlando\\anaconda3\\lib\\site-packages\\seaborn\\_decorators.py:36: FutureWarning: Pass the following variable as a keyword arg: x. From version 0.12, the only valid positional argument will be `data`, and passing other arguments without an explicit keyword will result in an error or misinterpretation.\n",
      "  warnings.warn(\n"
     ]
    },
    {
     "data": {
      "text/plain": [
       "<AxesSubplot:xlabel='INSTITUCION', ylabel='count'>"
      ]
     },
     "execution_count": 24,
     "metadata": {},
     "output_type": "execute_result"
    },
    {
     "data": {
      "image/png": "[encoded data removed]",
      "text/plain": [
       "<Figure size 576x432 with 1 Axes>"
      ]
     },
     "metadata": {
      "needs_background": "light"
     },
     "output_type": "display_data"
    }
   ],
   "source": [
    "import seaborn as sns\n",
    "import matplotlib.pyplot as plt\n",
    "\n",
    "plt.figure(figsize = (8,6))\n",
    "sns.countplot(df_org['INSTITUCION'])"
   ]
  },
  {
   "cell_type": "markdown",
   "metadata": {},
   "source": [
    "* *Gráfica de pastel de instituciones*"
   ]
  },
  {
   "cell_type": "code",
   "execution_count": 25,
   "metadata": {},
   "outputs": [
    {
     "data": {
      "image/png": "[encoded data removed]",
      "text/plain": [
       "<Figure size 576x576 with 1 Axes>"
      ]
     },
     "metadata": {},
     "output_type": "display_data"
    }
   ],
   "source": [
    "plt.figure(figsize = (8,8))\n",
    "INST=df_org.groupby(['INSTITUCION'])['INSTITUCION'].count().fillna(0)\n",
    "plt.pie(INST,labels=INST.index,autopct=\"%0.1f %%\")\n",
    "plt.axis(\"equal\")\n",
    "plt.show()"
   ]
  },
  {
   "cell_type": "markdown",
   "metadata": {},
   "source": [
    "Las 2 gráficas anteriores (countplot & de pastel) nos muestran que la mayor parte de los donadores realizaron el procedimiento correspondiente en el IMSS, para ser exactos el 43.9% de todos los donadores prefiere acudir a tal institución, asi mismo, podemos notar que son muy pocas las personas que acuden al SNTE o al SEMAR.\n",
    "\n",
    "* *Gráfica de barras*  \n",
    "Para esta gráfica se va a crear una nueva base de datos, la cual contenga solamente el nombre de cada órgano con el número total de donaciones correspondientes durante el periodo dado."
   ]
  },
  {
   "cell_type": "code",
   "execution_count": 26,
   "metadata": {},
   "outputs": [
    {
     "data": {
      "text/plain": [
       "<AxesSubplot:xlabel='órganos'>"
      ]
     },
     "execution_count": 26,
     "metadata": {},
     "output_type": "execute_result"
    },
    {
     "data": {
      "image/png": "[encoded data removed]",
      "text/plain": [
       "<Figure size 432x288 with 1 Axes>"
      ]
     },
     "metadata": {
      "needs_background": "light"
     },
     "output_type": "display_data"
    }
   ],
   "source": [
    "total = [df_org['RINON_IZQUIERDO'].sum(), df_org['RINON_DERECHO'].sum(), df_org['RINON_BLOCK'].sum(), df_org['PULMON_IZQUIERDO'].sum(),\n",
    "       df_org['PULMON_DERECHO'].sum(), df_org['CORAZON'].sum(), df_org['HIGADO'].sum(), df_org['PANCREAS'].sum(), df_org['INTESTINO'].sum(), \n",
    "       df_org['CORNEA_IZQUIERDA'].sum(), df_org['CORNEA_DERECHA'].sum(), df_org['PIEL'].sum(), df_org['HUESOS'].sum(), df_org['CORAZON_TEJIDOS'].sum()]\n",
    "nombre = ['RINON_IZQUIERDO','RINON_DERECHO','RINON_BLOCK','PULMON_IZQUIERDO','PULMON_DERECHO','CORAZON','HIGADO','PANCREAS',\n",
    "           'INTESTINO','CORNEA_IZQUIERDA','CORNEA_DERECHA','PIEL','HUESOS','CORAZON_TEJIDOS']\n",
    "ORGANOS={'órganos':nombre,'donacion_total':total}\n",
    "dfso=pd.DataFrame(data=ORGANOS)\n",
    "\n",
    "# https://www.youtube.com/watch?v=uDbgD_dO53g\n",
    "\n",
    "dfso.plot.bar(x='órganos', y='donacion_total')"
   ]
  },
  {
   "cell_type": "markdown",
   "metadata": {},
   "source": [
    "De acuerdo con lo anterior, de los 14 órganos de la base de datos, el riñón derecho ha sido el más donado del 2007 al primer semestre del 2019, seguido por ambas córneas. De esta gráfica sería imposible determinar que órgano es el menos donado, sin embargo, podemos ver que podría ser alguno de los pulmones, el páncreas o el intestino.\n",
    "\n",
    "* *Gráfica de lineas*  \n",
    "Para esta gráfica se va generar una nueva columna, la cual contenga solamente el año en que se realizó el procedimiento médico correspondiente, con el fin de ver el comportamiento de las donaciones en el transcurso de los años."
   ]
  },
  {
   "cell_type": "code",
   "execution_count": 27,
   "metadata": {},
   "outputs": [
    {
     "data": {
      "text/plain": [
       "<AxesSubplot:>"
      ]
     },
     "execution_count": 27,
     "metadata": {},
     "output_type": "execute_result"
    },
    {
     "data": {
      "image/png": "[encoded data removed]",
      "text/plain": [
       "<Figure size 432x288 with 1 Axes>"
      ]
     },
     "metadata": {
      "needs_background": "light"
     },
     "output_type": "display_data"
    }
   ],
   "source": [
    "df_org['AÑO']=pd.to_numeric(df_org['FECHA_PROCURACION'].str[:4])\n",
    "df_org['AÑO'].value_counts().sort_index().plot.line()"
   ]
  },
  {
   "cell_type": "markdown",
   "metadata": {},
   "source": [
    "Podemos notar que las donaciones han aumentado a medida que pasa el tiempo, entonces podemos decir que cada vez hay más gente dispuesta a donar órganos, cabe mencionar que no tomamos en cuenta la caída que se muestra al final, ya que los datos del 2019 son solamente del primer semestre.\n",
    "Por otro lado, esta gráfica no muestra suficiente información, es importante verificar el comportamiento de las donaciones en el transcurso de los años de cada tipo de donante.\n",
    "\n",
    "* *Stacked plot Año-tipo de donante*"
   ]
  },
  {
   "cell_type": "code",
   "execution_count": 28,
   "metadata": {},
   "outputs": [
    {
     "data": {
      "text/plain": [
       "<AxesSubplot:xlabel='AÑO'>"
      ]
     },
     "execution_count": 28,
     "metadata": {},
     "output_type": "execute_result"
    },
    {
     "data": {
      "image/png": "[encoded data removed]",
      "text/plain": [
       "<Figure size 432x288 with 1 Axes>"
      ]
     },
     "metadata": {
      "needs_background": "light"
     },
     "output_type": "display_data"
    }
   ],
   "source": [
    "df2 = df_org.groupby(['AÑO', 'TIPO_DONANTE'])['AÑO'].count().unstack('TIPO_DONANTE').fillna(0)\n",
    "df2.plot.bar(stacked=True)\n",
    "\n",
    "# https://stackoverflow.com/questions/23415500/pandas-plotting-a-stacked-bar-chart"
   ]
  },
  {
   "cell_type": "markdown",
   "metadata": {},
   "source": []
  },
  {
   "cell_type": "markdown",
   "metadata": {},
   "source": [
    "**Conclusión global**  \n",
    "Este segundo avance contribuye de gran manera a nuestro proyecto, pues nos permite responder a todos nuestros objetivos:\n",
    "\n",
    "  * Objetivo principal.\n",
    "    * Verificar si con el paso de los años ha incrementado la cultura de donación.  \n",
    "      Nosotros consideramos que una buena cultura de donación es aquella en la que las personas acceden a donar algún órgano mientras están con vida. Y de acuerdo con la \"gráfica de líneas\", las donaciones de órganos cuentan con una tendencia a la alza, es decir, con el paso de los años cada vez es mayor la cantidad de personas que realizan este proceso, sin embargo, al verificar el \"stacked plot Año-tipo de donante\", nos damos cuenta de que, a pesar de incrementar la cantidad de donantes, realmente la cultura de donación no ha mejorado, pues en los últimos años se tiene la misma proporción para los 2 tipos de donadores o predominan los de tipo cadáver.\n",
    "    \n",
    "  * Objetivos secundarios.\n",
    "    * Determinar el rango de edad en el que la mayoría de las personas realiza alguna donación.  \n",
    "      En general, de acuerdo con el \"histograma de edades\", la mayor parte de las personas decide realizar una donación entre los 40 y 50 años, y con el stacked plot edad-tipo de donante, vemos que dicho rango se sigue cumpliendo si solamente tomamos a los donadores de tipo vivo, pero este cambia si se toman a los de tipo cadáver, pues la mayoría de ellos rondan entre los 45 y 60 años.  \n",
    "      \n",
    "    * Conocer que órganos suelen ser los más donados.  \n",
    "      La \"gráfica de barras\" nos muestra que el top 3 de los órganos más donados es:  \n",
    "      1) Riñón derecho.  \n",
    "      2) Córnea izquierda y córnea derecha.  \n",
    "      3) Riñón izquierdo.  \n",
    "      \n",
    "    * Identificar la institución que realiza el mayor número de procedimientos médicos correspondientes.  \n",
    "      El \"countplot\" y la \"gráfica de pastel\" nos permiten ver que, de las 9 instituciones de nuestra base, el IMSS es a la que la mayoría de las personas suelen acudir para realizar alguna donación, casi el 50% de los donadores deciden realizar el procedimiento médico ahí.  \n",
    "           \n",
    "    * Comparar la cultura de donación de las entidades federativas.  \n",
    "      Es complicado comparar todas las entidades federativas mediante una gráfica por la gran diferencia de donadores totales, sin embargo, en \"stacked plot entidades federativas-tipo de donante\" podemos identificar que la Cd. de México, la cual es la entidad federativa con el mayor número de procedimientos médicos, y Jalisco, cuentan con buena cultura de donación, pues la mayoría de sus habitantes realizan donaciones mientras viven, por otro lado, tenemos que México y Querétaro son entidades en las cuales la cultura de donación no es muy buena, pues en ellas la mayor parte de las personas suelen donar solamente cuando fallecen.  "
   ]
  }
 ],
 "metadata": {
  "kernelspec": {
   "display_name": "Python 3",
   "language": "python",
   "name": "python3"
  },
  "language_info": {
   "codemirror_mode": {
    "name": "ipython",
    "version": 3
   },
   "file_extension": ".py",
   "mimetype": "text/x-python",
   "name": "python",
   "nbconvert_exporter": "python",
   "pygments_lexer": "ipython3",
   "version": "3.8.5"
  }
 },
 "nbformat": 4,
 "nbformat_minor": 4
}
